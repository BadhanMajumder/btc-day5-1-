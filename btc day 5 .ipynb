{
 "cells": [
  {
   "cell_type": "code",
   "execution_count": 3,
   "metadata": {},
   "outputs": [
    {
     "name": "stdout",
     "output_type": "stream",
     "text": [
      "5 4\n"
     ]
    }
   ],
   "source": [
    "def swap(a,b):\n",
    "    c=a\n",
    "    a=b\n",
    "    b=c\n",
    "    print(a,b)\n",
    "swap(4,5)"
   ]
  },
  {
   "cell_type": "code",
   "execution_count": 4,
   "metadata": {},
   "outputs": [
    {
     "name": "stdout",
     "output_type": "stream",
     "text": [
      "20 10\n"
     ]
    }
   ],
   "source": [
    "def swap(a,b):\n",
    "    a,b=b,a\n",
    "    print(a,b)\n",
    "swap(10,20)"
   ]
  },
  {
   "cell_type": "code",
   "execution_count": null,
   "metadata": {},
   "outputs": [
    {
     "name": "stdout",
     "output_type": "stream",
     "text": [
      "30\n"
     ]
    }
   ],
   "source": [
    "s=lambda a,b:a+b    # lambda function\n",
    "r=s(10,20)\n",
    "print(r)"
   ]
  },
  {
   "cell_type": "code",
   "execution_count": null,
   "metadata": {},
   "outputs": [
    {
     "name": "stdout",
     "output_type": "stream",
     "text": [
      "3\n"
     ]
    }
   ],
   "source": [
    "s=lambda a,b:a+b\n",
    "a=int(input (\"enter the number : \"))\n",
    "b=int (input(\"enter 2nd number : \"))\n",
    "r=s(a,b) #1,3\n",
    "print(r)"
   ]
  },
  {
   "cell_type": "code",
   "execution_count": 33,
   "metadata": {},
   "outputs": [
    {
     "name": "stdout",
     "output_type": "stream",
     "text": [
      "<function <lambda> at 0x00000251F5399080>\n"
     ]
    }
   ],
   "source": [
    "a=1\n",
    "b=10\n",
    "for i in range(a,b+1):\n",
    "    s=lambda i,b:i+b\n",
    "print(s)\n"
   ]
  },
  {
   "cell_type": "code",
   "execution_count": null,
   "metadata": {},
   "outputs": [
    {
     "name": "stdout",
     "output_type": "stream",
     "text": [
      "enter two number :\n",
      "greatest number is  3\n"
     ]
    }
   ],
   "source": [
    "print(\"enter two number :\")\n",
    "r=(lambda a,b: a if a>b else b)(int(input()),int (input()))\n",
    "print(\"greatest number is \", r)"
   ]
  },
  {
   "cell_type": "code",
   "execution_count": null,
   "metadata": {},
   "outputs": [
    {
     "name": "stdout",
     "output_type": "stream",
     "text": [
      "factorial is 120\n"
     ]
    }
   ],
   "source": [
    "s=lambda a: 1 if a==0 else (a*s(a-1))# as i am colling the s function again and again\n",
    "r=s(int(input(\"Enter the number which factorial you want to do : \")))\n",
    "print(f\"factorial is {r}\")\n"
   ]
  },
  {
   "cell_type": "code",
   "execution_count": null,
   "metadata": {},
   "outputs": [
    {
     "name": "stdout",
     "output_type": "stream",
     "text": [
      "plz give proper input\n"
     ]
    }
   ],
   "source": [
    "## try error handeling\n",
    "a=int (input(\"Enter the value :\"))\n",
    "b=int (input(\"Enter the value :\"))\n",
    "try:\n",
    "    z=a/b\n",
    "    print(\"division is \",z)\n",
    "except ZeroDivisionError:\n",
    "    print(\"plz give proper input\")\n"
   ]
  },
  {
   "cell_type": "markdown",
   "metadata": {},
   "source": [
    "object orinted programming\n"
   ]
  },
  {
   "cell_type": "code",
   "execution_count": 30,
   "metadata": {},
   "outputs": [
    {
     "name": "stdout",
     "output_type": "stream",
     "text": [
      "hello\n"
     ]
    }
   ],
   "source": [
    "class fun:\n",
    "    i=10\n",
    "    def __init__(self):\n",
    "        print(\"hello\")\n",
    "    def f1 (self):\n",
    "        print(\"hello2\")\n",
    "t=fun()\n"
   ]
  },
  {
   "cell_type": "code",
   "execution_count": 32,
   "metadata": {},
   "outputs": [
    {
     "name": "stdout",
     "output_type": "stream",
     "text": [
      "name =  ayan\n",
      "age :  18\n",
      "roll number :  37\n"
     ]
    }
   ],
   "source": [
    "class person:\n",
    "    def __init__(self,n,a):\n",
    "        self.name=n\n",
    "        self.age=a\n",
    "    def showname(self):\n",
    "        print(\"name = \",self.name)\n",
    "    def showage(self):\n",
    "        print(\"age : \",self.age)\n",
    "class student(person):\n",
    "    def __init__(self,n,a,r):\n",
    "        super().__init__(n,a)\n",
    "        self.rollno=r\n",
    "    def showroll(self):\n",
    "        print(\"roll number : \",self.rollno)\n",
    "s1=student(\"ayan\",18,37)\n",
    "s1.showname()\n",
    "s1.showage()\n",
    "s1.showroll()\n"
   ]
  }
 ],
 "metadata": {
  "kernelspec": {
   "display_name": "Python 3",
   "language": "python",
   "name": "python3"
  },
  "language_info": {
   "codemirror_mode": {
    "name": "ipython",
    "version": 3
   },
   "file_extension": ".py",
   "mimetype": "text/x-python",
   "name": "python",
   "nbconvert_exporter": "python",
   "pygments_lexer": "ipython3",
   "version": "3.13.1"
  }
 },
 "nbformat": 4,
 "nbformat_minor": 2
}
